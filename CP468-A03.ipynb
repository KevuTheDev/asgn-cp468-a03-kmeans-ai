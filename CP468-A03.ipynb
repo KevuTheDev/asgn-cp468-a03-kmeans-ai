{
 "nbformat": 4,
 "nbformat_minor": 0,
 "metadata": {
  "colab": {
   "name": "CP468-A03.ipynb",
   "provenance": [
    {
     "file_id": "11UgTfIfp3PjJwG7m6Dap-XLcjlzisW07",
     "timestamp": 1656524615569
    }
   ],
   "collapsed_sections": []
  },
  "kernelspec": {
   "name": "python3",
   "display_name": "Python 3"
  },
  "language_info": {
   "name": "python"
  }
 },
 "cells": [
  {
   "cell_type": "code",
   "execution_count": null,
   "metadata": {
    "id": "_RbvHj5Ci3MX"
   },
   "outputs": [],
   "source": [
    "# Import pandasw\n",
    "import pandas as pd\n",
    "import math\n",
    "from matplotlib import pyplot as plt\n",
    "import random\n",
    "from copy import deepcopy"
   ]
  },
  {
   "cell_type": "code",
   "source": [
    "# Constants\n",
    "COLORS = [\"red\", \"orange\", \"yellow\", \"green\", \"blue\", \"indigo\", \"purple\"]"
   ],
   "metadata": {
    "id": "a9r0oLL03MPM"
   },
   "execution_count": null,
   "outputs": []
  },
  {
   "cell_type": "code",
   "source": [
    "mainData = pd.read_csv(\"data/kmeans.csv\", index_col=None, header=0, engine='python')\n",
    "mainData = mainData.values.tolist()"
   ],
   "metadata": {
    "id": "RVRnlo4ajEQ5"
   },
   "execution_count": null,
   "outputs": []
  },
  {
   "cell_type": "code",
   "source": [
    "class Point:\n",
    "    def __init__(self, p_x, p_y, p_classifier=None):\n",
    "        self.x = p_x\n",
    "        self.y = p_y\n",
    "        self.classifier = p_classifier # None, 1+\n",
    "    \n",
    "    def __str__(self):\n",
    "        return \"x: \" + str(self.x) + \", y: \" + str(self.y) + \", classifier: \" + str(self.classifier)\n",
    "    \n",
    "    def setClassifier(self, p_classifier):\n",
    "        assert type(p_classifier) == int, \"Int is required!\"\n",
    "        self.classifier = p_classifier\n",
    "\n",
    "class Centroid:\n",
    "    def __init__(self, p_x, p_y, p_classifier=None):\n",
    "        self.x = p_x\n",
    "        self.y = p_y\n",
    "        self.classifier = p_classifier # None, 1+\n",
    "        self.pointsList = []\n",
    "    \n",
    "    def __str__(self):\n",
    "        return \"x: \" + str(self.x) + \", y: \" + str(self.y) + \", classifier: \" + str(self.classifier)\n",
    "    \n",
    "    def __len__(self):\n",
    "        return len(self.pointsList)\n",
    "    \n",
    "    def setClassifier(self, p_classifier):\n",
    "        assert type(p_classifier) == int, \"Int is required!\"\n",
    "        self.classifier = p_classifier\n",
    "    \n",
    "    def addPoint(self, p_point):\n",
    "        assert type(p_point) == Point, \"Point is required!\"\n",
    "        self.pointsList.append(p_point)\n",
    "    \n",
    "    def resetPoints(self):\n",
    "        self.pointsList.clear()\n"
   ],
   "metadata": {
    "id": "xSxWUdR_F4YR"
   },
   "execution_count": null,
   "outputs": []
  },
  {
   "cell_type": "code",
   "source": [
    "def GeneratePointsList(p_dataList):\n",
    "    pList = []\n",
    "    for i, data in enumerate(p_dataList):\n",
    "        p = Point(data[0], data[1])\n",
    "        pList.append(p)\n",
    "    \n",
    "    return pList\n",
    "\n",
    "def EuclideanDistance(p_xPoint, p_yPoint):\n",
    "    a = math.pow(p_xPoint[0] - p_yPoint[0], 2)\n",
    "    b = math.pow(p_xPoint[1] - p_yPoint[1], 2)\n",
    "    return math.sqrt(a + b)\n",
    "\n",
    "def EuclideanDistancePointCentroid(p_point, p_centroid):\n",
    "    a = math.pow(p_point.x - p_centroid.x, 2)\n",
    "    b = math.pow(p_point.y - p_centroid.y, 2)\n",
    "    return math.sqrt(a + b)\n",
    "\n",
    "\n",
    "def GenerateZeroMatrix(p_size):\n",
    "    dMatrix = [[0 for i in range(p_size)] for i in range(p_size)]\n",
    "    return dMatrix\n",
    "\n",
    "def GenerateDistanceMatrix(p_dataArray):\n",
    "    dataArrayLength = len(p_dataArray)\n",
    "    dMatrix = GenerateZeroMatrix(dataArrayLength)\n",
    "    for row in range(dataArrayLength):\n",
    "        for col in range(row, dataArrayLength):\n",
    "            d = EuclideanDistance(p_dataArray[row], p_dataArray[col])\n",
    "            dMatrix[row][col] = d\n",
    "            dMatrix[col][row] = d\n",
    "    return dMatrix\n",
    "\n",
    "def GenerateDistanceMatrix2(p_dataArray):\n",
    "    dMatrix = []\n",
    "    for ci, i in enumerate(p_dataArray):\n",
    "        dMatrix.append([])\n",
    "        for cj, j in enumerate(p_dataArray):\n",
    "            d = EuclideanDistance(i, j)\n",
    "            dMatrix[ci].append(d)\n",
    "    return dMatrix\n",
    "\n",
    "def ValidateTwins(p_m1, p_m2):\n",
    "    if len(p_m1) != len(p_m2):\n",
    "        return False\n",
    "\n",
    "    length = len(p_m1)\n",
    "\n",
    "    for i in range(length):\n",
    "        for j in range(length):\n",
    "            if p_m1[i][j] != p_m2[i][j]:\n",
    "                return False\n",
    "    return True\n",
    "\n",
    "def PrintDistanceMatrix(p_distanceMatrix):\n",
    "    print(\"     \",end=\"\")\n",
    "    for i in range(len(p_distanceMatrix)):\n",
    "        print(f\"{i:<8}\", end=\" \")\n",
    "    print()\n",
    "\n",
    "    for index, row in enumerate(p_distanceMatrix):\n",
    "        print(f\"{index}\", end=\"    \")\n",
    "        for i in row:\n",
    "            print(f\"{i:<8.3f}\", end=\" \")\n",
    "        print()\n",
    "    return\n",
    "\n",
    "def plotData(p_pointsList, p_centroidList=[], p_xTitle=\"f1\", p_yTitle=\"f2\"):\n",
    "    plt.rcParams[\"figure.figsize\"] = [10, 8]\n",
    "    plt.rcParams[\"figure.autolayout\"] = True\n",
    "    fig = plt.figure()\n",
    "    ax = fig.add_subplot()\n",
    "\n",
    "    for ci, i, in enumerate(p_pointsList):\n",
    "        mycolor = COLORS[i.classifier] if i.classifier is not None else \"#000000\"\n",
    "        ax.scatter(i.x, i.y, c=mycolor, s=150, linewidths=1, edgecolors='#8D99AE')\n",
    "    \n",
    "    for ci, i, in enumerate(p_centroidList):\n",
    "        mycolor = COLORS[i.classifier] if i.classifier is not None else \"#000000\"\n",
    "        ax.scatter(i.x, i.y, c=mycolor, s=50, linewidths=2, edgecolors='#8D99AE')\n",
    "\n",
    "\n",
    "    plt.xlim(0, 90)\n",
    "    plt.ylim(0, 90)\n",
    "    plt.xlabel(p_xTitle)\n",
    "    plt.ylabel(p_yTitle)\n",
    "    plt.title(\"Scatter Plot\")\n",
    "    plt.show()\n",
    "    return"
   ],
   "metadata": {
    "id": "JvGRA12fkgK_"
   },
   "execution_count": null,
   "outputs": []
  },
  {
   "cell_type": "code",
   "source": [
    "def CreateCentroids(p_pointsList, p_k):\n",
    "    plLength = len(p_pointsList)\n",
    "    counter = 0\n",
    "\n",
    "    randomPointsList = []\n",
    "\n",
    "    while counter < p_k:\n",
    "        rNum = random.randint(0, plLength-1)\n",
    "        rPoint = p_pointsList[rNum]\n",
    "\n",
    "        if rPoint not in randomPointsList:\n",
    "            randomPointsList.append(rPoint)\n",
    "            counter += 1\n",
    "        else:\n",
    "            print(\"reshuffle\")\n",
    "    \n",
    "    centroidList = []\n",
    "\n",
    "    for i, data in enumerate(randomPointsList):\n",
    "        data.setClassifier(i)\n",
    "        c = Centroid(data.x, data.y, data.classifier)\n",
    "        centroidList.append(c)\n",
    "    \n",
    "    return centroidList\n",
    "\n",
    "def MinimumDistance(p_eDistanceList):\n",
    "    count = -1\n",
    "    distance = 9999999 #maxsize\n",
    "\n",
    "    for i, data in enumerate(p_eDistanceList):\n",
    "        if data < distance:\n",
    "            distance = data\n",
    "            count = i\n",
    "    \n",
    "    return count\n",
    "    \n",
    "def ResetCentroidList(p_centroidList):\n",
    "    for i in p_centroidList:\n",
    "        i.resetPoints()\n",
    "\n",
    "def RepositionCentroidList(p_centroidList):\n",
    "    for i in p_centroidList:\n",
    "        totalX = 0\n",
    "        totalY = 0\n",
    "        count = 0\n",
    "        for j in i.pointsList:\n",
    "            totalX += j.x\n",
    "            totalY += j.y\n",
    "            count += 1\n",
    "        i.x = totalX / count\n",
    "        i.y = totalY / count\n",
    "\n",
    "def CentroidData(p_centroidList):\n",
    "    for data in p_centroidList:\n",
    "        print(\"Centroid Classifier\", \"#\" + str(data.classifier), \"[\" + COLORS[data.classifier].upper() + \"]\")\n",
    "        print(\"  Size:\", len(data))\n",
    "        print(\"  X Position: {:.4f} Y Position: {:.4f}\".format(data.x,data.y))\n",
    "        print()\n",
    "\n",
    "def kmeans(p_pointList, p_k=1):\n",
    "    classifierModified = True\n",
    "    f_pointsList = deepcopy(p_pointList)\n",
    "    f_centroidsList = CreateCentroids(f_pointsList, p_k)\n",
    "    print()\n",
    "\n",
    "    counter = 0\n",
    "    while classifierModified:\n",
    "        counter += 1\n",
    "        classifierModified = False\n",
    "        ResetCentroidList(f_centroidsList)\n",
    "\n",
    "        for i in f_pointsList: # main loop\n",
    "            edistanceList = []\n",
    "            for j in f_centroidsList: # loop through centroids\n",
    "                dist = EuclideanDistancePointCentroid(i, j)\n",
    "                edistanceList.append(dist)\n",
    "            \n",
    "            verdict = MinimumDistance(edistanceList)\n",
    "            if verdict != i.classifier:\n",
    "                if classifierModified == False:\n",
    "                    classifierModified = True\n",
    "\n",
    "                i.setClassifier(verdict)\n",
    "            \n",
    "            f_centroidsList[i.classifier].addPoint(i)\n",
    "        \n",
    "        RepositionCentroidList(f_centroidsList)\n",
    "    plotData(f_pointsList)\n",
    "    CentroidData(f_centroidsList)\n"
   ],
   "metadata": {
    "id": "dpsAuf9z-Vlo",
    "executionInfo": {
     "status": "ok",
     "timestamp": 1656621586938,
     "user_tz": 240,
     "elapsed": 270,
     "user": {
      "displayName": "Kevin He",
      "userId": "15707734548606131195"
     }
    }
   },
   "execution_count": 27,
   "outputs": []
  },
  {
   "cell_type": "code",
   "source": [
    "pointsList = GeneratePointsList(mainData)\n",
    "plotData(pointsList) \n",
    "kmeans(pointsList,2)"
   ],
   "metadata": {
    "colab": {
     "base_uri": "https://localhost:8080/",
     "height": 1000
    },
    "id": "Tj_Z2ZiUjKN8",
    "executionInfo": {
     "status": "ok",
     "timestamp": 1656621587884,
     "user_tz": 240,
     "elapsed": 965,
     "user": {
      "displayName": "Kevin He",
      "userId": "15707734548606131195"
     }
    },
    "outputId": "946385c0-0632-441b-89a6-3180aa70aa2c"
   },
   "execution_count": 28,
   "outputs": [
    {
     "output_type": "display_data",
     "data": {
      "text/plain": [
       "<Figure size 720x576 with 1 Axes>"
      ],
      "image/png": "[encoded data removed]"
     },
     "metadata": {
      "needs_background": "light"
     }
    },
    {
     "output_type": "stream",
     "name": "stdout",
     "text": [
      "\n"
     ]
    },
    {
     "output_type": "display_data",
     "data": {
      "text/plain": [
       "<Figure size 720x576 with 1 Axes>"
      ],
      "image/png": "[encoded data removed]"
     },
     "metadata": {
      "needs_background": "light"
     }
    },
    {
     "output_type": "stream",
     "name": "stdout",
     "text": [
      "Centroid Classifier #0 [RED]\n",
      "  Size: 14\n",
      "  X Position: 47.0714 Y Position: 22.1429\n",
      "\n",
      "Centroid Classifier #1 [ORANGE]\n",
      "  Size: 16\n",
      "  X Position: 38.7500 Y Position: 61.6250\n",
      "\n"
     ]
    }
   ]
  },
  {
   "cell_type": "code",
   "source": [
    "# 1) Create a list of points to store the points for looping\n",
    "# 2) Pick a random number and pick the point corresponding to the random number\n",
    "# 3) Mark the point as the specified centroid class\n",
    "# 4) Generate a centroid and get the points coordinates\n",
    "# 5) Do step 2-4 until you reach the k-value\n",
    "# 6) Now loop through each point and evaluate the Euclidean Distance between the point and each centroid. Pick the closests centroid and mark the class type for each point\n",
    "# 7) Once every point has been searched, evaluate the average of each centroid/class, and adjust the average scores onto the centroid\n",
    "# 8) Redo the process again.\n",
    "\n",
    "# 9) Until you reached a point where no point has changed the class, then we say this is done\n",
    "# 10) Graph it out and done."
   ],
   "metadata": {
    "id": "HlFgz3kCMHIQ",
    "executionInfo": {
     "status": "ok",
     "timestamp": 1656621587888,
     "user_tz": 240,
     "elapsed": 31,
     "user": {
      "displayName": "Kevin He",
      "userId": "15707734548606131195"
     }
    }
   },
   "execution_count": 29,
   "outputs": []
  },
  {
   "cell_type": "code",
   "source": [
    ""
   ],
   "metadata": {
    "id": "mIllYfUo250e"
   },
   "execution_count": null,
   "outputs": []
  }
 ]
}